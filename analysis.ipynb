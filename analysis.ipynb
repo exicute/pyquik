{
 "cells": [
  {
   "cell_type": "markdown",
   "metadata": {},
   "source": [
    "1) Spot-futures parity\n",
    "    1.1) Получить данные котировок (исторические/лайв)\n",
    "        1.1.1) Измерить доходность и риск активов\n",
    "    1.2) Получить данные фьючерсов (исторические/лайв)\n",
    "    1.3) Получить данные T-bills\n",
    "    1.4) Рассчитать профит с учетом срока до экспирации и комиссий\n",
    "\n",
    "2) Отработка спрэдов на криптобирже"
   ]
  },
  {
   "cell_type": "code",
   "execution_count": 1,
   "metadata": {},
   "outputs": [],
   "source": [
    "import pandas as pd\n",
    "import matplotlib.pyplot as plt\n",
    "import numpy as np\n",
    "import statsmodels.api as sm\n",
    "import seaborn as sns\n",
    "import scipy\n",
    "\n",
    "from QuikPy import QuikPy\n",
    "from techfunc import *\n",
    "from stat_func import *"
   ]
  },
  {
   "cell_type": "code",
   "execution_count": 2,
   "metadata": {},
   "outputs": [],
   "source": [
    "qp_provider = QuikPy()"
   ]
  },
  {
   "cell_type": "code",
   "execution_count": 3,
   "metadata": {},
   "outputs": [],
   "source": [
    "govrate = 0.19\n",
    "borrowlong = govrate+0.09\n",
    "borrowshort = govrate+0.14\n",
    "\n",
    "stockclass = 'TQBR'\n",
    "futuresclass = 'SPBFUT'"
   ]
  },
  {
   "cell_type": "markdown",
   "metadata": {},
   "source": [
    "Получение всех данных"
   ]
  },
  {
   "cell_type": "code",
   "execution_count": 6,
   "metadata": {},
   "outputs": [],
   "source": [
    "minint = 5\n",
    "\n",
    "moexf5 = qp_provider.get_candles_from_data_source(futuresclass, 'IMOEXF', minint)\n",
    "brx45 = qp_provider.get_candles_from_data_source(futuresclass, 'BRX4', minint)\n",
    "sber5 = qp_provider.get_candles_from_data_source(stockclass, 'SBER', minint)\n",
    "gazp5 = qp_provider.get_candles_from_data_source(stockclass, 'GAZP', minint)\n",
    "si5 = qp_provider.get_candles_from_data_source(futuresclass, 'SiZ4', minint)\n",
    "\n",
    "moexf5 = collectdatequik(moexf5)[::-1].reset_index(drop=True)\n",
    "brx45 = collectdatequik(brx45)[::-1].reset_index(drop=True)\n",
    "sber5 = collectdatequik(sber5)[::-1].reset_index(drop=True)\n",
    "gazp5 = collectdatequik(gazp5)[::-1].reset_index(drop=True)\n",
    "si5 = collectdatequik(si5)[::-1].reset_index(drop=True)\n",
    "\n",
    "dfclose5 = pd.DataFrame()\n",
    "dfclose5['imoexf'] = moexf5[:672].close #/10\n",
    "dfclose5['brx4'] = brx45[:672].close #*3.5\n",
    "dfclose5['sber'] = sber5[:672].close\n",
    "dfclose5['gazp'] = gazp5[:672].close #*2\n",
    "dfclose5['si'] = si5[:672].close #/300"
   ]
  },
  {
   "cell_type": "code",
   "execution_count": 7,
   "metadata": {},
   "outputs": [],
   "source": [
    "minint = 240\n",
    "\n",
    "moexf4 = qp_provider.get_candles_from_data_source(futuresclass, 'IMOEXF', minint)\n",
    "brx44 = qp_provider.get_candles_from_data_source(futuresclass, 'BRX4', minint)\n",
    "sber4 = qp_provider.get_candles_from_data_source(stockclass, 'SBER', minint)\n",
    "gazp4 = qp_provider.get_candles_from_data_source(stockclass, 'GAZP', minint)\n",
    "si4 = qp_provider.get_candles_from_data_source(futuresclass, 'SiZ4', minint)\n",
    "\n",
    "moexf4 = collectdatequik(moexf4)[::-1].reset_index(drop=True)\n",
    "brx44 = collectdatequik(brx44)[::-1].reset_index(drop=True)\n",
    "sber4 = collectdatequik(sber4)[::-1].reset_index(drop=True)\n",
    "gazp4 = collectdatequik(gazp4)[::-1].reset_index(drop=True)\n",
    "si4 = collectdatequik(si4)[::-1].reset_index(drop=True)\n",
    "\n",
    "dfclose4 = pd.DataFrame()\n",
    "dfclose4['imoexf'] = moexf4[:100].close #/10\n",
    "dfclose4['brx4'] = brx44[:100].close #*3.5\n",
    "dfclose4['sber'] = sber4[:100].close\n",
    "dfclose4['gazp'] = gazp4[:100].close #*2\n",
    "dfclose4['si'] = si4[:100].close #/300"
   ]
  },
  {
   "cell_type": "markdown",
   "metadata": {},
   "source": [
    "Графики"
   ]
  },
  {
   "cell_type": "code",
   "execution_count": null,
   "metadata": {},
   "outputs": [],
   "source": [
    "sns.set_style('whitegrid')\n",
    "si4yield = getvar(si4)['frameyield']\n",
    "sns.histplot(si4yield)"
   ]
  },
  {
   "cell_type": "code",
   "execution_count": 22,
   "metadata": {},
   "outputs": [
    {
     "name": "stderr",
     "output_type": "stream",
     "text": [
      "d:\\pyquik\\techfunc.py:60: SettingWithCopyWarning: \n",
      "A value is trying to be set on a copy of a slice from a DataFrame.\n",
      "Try using .loc[row_indexer,col_indexer] = value instead\n",
      "\n",
      "See the caveats in the documentation: https://pandas.pydata.org/pandas-docs/stable/user_guide/indexing.html#returning-a-view-versus-a-copy\n",
      "  df['yield'] = (df['open'] - df['close'])/df['open']\n"
     ]
    },
    {
     "data": {
      "text/plain": [
       "count    100.000000\n",
       "mean      -0.000432\n",
       "std        0.003111\n",
       "min       -0.008069\n",
       "25%       -0.002209\n",
       "50%       -0.000543\n",
       "75%        0.001200\n",
       "max        0.009218\n",
       "Name: yield, dtype: float64"
      ]
     },
     "execution_count": 22,
     "metadata": {},
     "output_type": "execute_result"
    }
   ],
   "source": [
    "si4yield = getvar(si4[:100])['frameyield']\n",
    "si4yield.describe()"
   ]
  },
  {
   "cell_type": "code",
   "execution_count": null,
   "metadata": {},
   "outputs": [],
   "source": [
    "moexf4yield = getyield(moexf4[:100])['yield']\n",
    "moexf4yield.describe()"
   ]
  },
  {
   "cell_type": "code",
   "execution_count": null,
   "metadata": {},
   "outputs": [],
   "source": [
    "sns.set_style('whitegrid')\n",
    "sns.lineplot(dfclose4)"
   ]
  },
  {
   "cell_type": "markdown",
   "metadata": {},
   "source": [
    "Корреляции и регрессии"
   ]
  },
  {
   "cell_type": "code",
   "execution_count": null,
   "metadata": {},
   "outputs": [],
   "source": [
    "dfclose5.describe()"
   ]
  },
  {
   "cell_type": "code",
   "execution_count": null,
   "metadata": {},
   "outputs": [],
   "source": [
    "dfclose4.std(axis=0)"
   ]
  },
  {
   "cell_type": "code",
   "execution_count": null,
   "metadata": {},
   "outputs": [],
   "source": [
    "dfclose5.corr()"
   ]
  },
  {
   "cell_type": "code",
   "execution_count": null,
   "metadata": {},
   "outputs": [],
   "source": [
    "dfclose4.corr()"
   ]
  },
  {
   "cell_type": "markdown",
   "metadata": {},
   "source": [
    "Futures pricing"
   ]
  },
  {
   "cell_type": "code",
   "execution_count": 6,
   "metadata": {},
   "outputs": [
    {
     "data": {
      "text/plain": [
       "(125600.95999999999, -1231.9599999999919)"
      ]
     },
     "execution_count": 6,
     "metadata": {},
     "output_type": "execute_result"
    }
   ],
   "source": [
    "assetprice = qp_provider.get_quote_level2(stockclass, 'CHMF')['data']['bid'][-1]['price']\n",
    "futureprice = qp_provider.get_quote_level2(futuresclass, 'CHZ4')['data']['bid'][-1]['price']\n",
    "\n",
    "calcspread(float(assetprice), borrowlong, '2024-12-19', dividend=3400, futval=float(futureprice), lotsize=100)"
   ]
  },
  {
   "cell_type": "code",
   "execution_count": 7,
   "metadata": {},
   "outputs": [
    {
     "data": {
      "text/plain": [
       "int"
      ]
     },
     "execution_count": 7,
     "metadata": {},
     "output_type": "execute_result"
    }
   ],
   "source": [
    "type((pd.to_datetime('2024-12-19')-pd.to_datetime('today').normalize()).days)"
   ]
  },
  {
   "cell_type": "code",
   "execution_count": 24,
   "metadata": {},
   "outputs": [
    {
     "data": {
      "text/plain": [
       "'27351'"
      ]
     },
     "execution_count": 24,
     "metadata": {},
     "output_type": "execute_result"
    }
   ],
   "source": [
    "sberfut"
   ]
  }
 ],
 "metadata": {
  "kernelspec": {
   "display_name": "analysis",
   "language": "python",
   "name": "python3"
  },
  "language_info": {
   "codemirror_mode": {
    "name": "ipython",
    "version": 3
   },
   "file_extension": ".py",
   "mimetype": "text/x-python",
   "name": "python",
   "nbconvert_exporter": "python",
   "pygments_lexer": "ipython3",
   "version": "3.12.4"
  }
 },
 "nbformat": 4,
 "nbformat_minor": 2
}
